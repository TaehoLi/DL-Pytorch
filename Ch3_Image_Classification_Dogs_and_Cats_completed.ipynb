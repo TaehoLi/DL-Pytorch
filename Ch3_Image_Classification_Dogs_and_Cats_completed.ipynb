{
 "cells": [
  {
   "cell_type": "code",
   "execution_count": 1,
   "metadata": {},
   "outputs": [],
   "source": [
    "from glob import glob\n",
    "import os\n",
    "import numpy as np\n",
    "import matplotlib.pyplot as plt\n",
    "import shutil\n",
    "from torchvision import transforms\n",
    "from torchvision import models\n",
    "import torch\n",
    "from torch.autograd import Variable\n",
    "import torch.nn as nn\n",
    "from torch.optim import lr_scheduler\n",
    "from torch import optim\n",
    "from torchvision.datasets import ImageFolder\n",
    "from torchvision.utils import make_grid\n",
    "import time\n",
    "%matplotlib inline"
   ]
  },
  {
   "cell_type": "code",
   "execution_count": 2,
   "metadata": {},
   "outputs": [],
   "source": [
    "\n",
    "def imshow(inp):\n",
    "    \"\"\"Imshow for Tensor.\"\"\"\n",
    "    inp = inp.numpy().transpose((1, 2, 0))\n",
    "    mean = np.array([0.485, 0.456, 0.406])\n",
    "    std = np.array([0.229, 0.224, 0.225])\n",
    "    inp = std * inp + mean\n",
    "    inp = np.clip(inp, 0, 1)\n",
    "    plt.imshow(inp)\n",
    "   "
   ]
  },
  {
   "cell_type": "markdown",
   "metadata": {
    "heading_collapsed": true
   },
   "source": [
    "## 다운로드한 데이터 형태"
   ]
  },
  {
   "cell_type": "markdown",
   "metadata": {
    "hidden": true
   },
   "source": [
    "```\n",
    "    chapter3/\n",
    "        dogsandcats/\n",
    "            train/\n",
    "                dog.183.jpg\n",
    "                cat.2.jpg\n",
    "                cat.17.jpg\n",
    "                dog.186.jpg\n",
    "                cat.27.jpg\n",
    "                dog.193.jpg\n",
    "  \n",
    "\n",
    "```\n",
    "\n",
    "```\n",
    "    chapter3/\n",
    "        dogsandcats/\n",
    "            train/\n",
    "                dog/\n",
    "                    dog.183.jpg\n",
    "                    dog.186.jpg\n",
    "                    dog.193.jpg\n",
    "                cat/\n",
    "                    cat.17.jpg\n",
    "                    cat.2.jpg\n",
    "                    cat.27.jpg\n",
    "            valid/\n",
    "                dog/\n",
    "                    dog.173.jpg\n",
    "                    dog.156.jpg\n",
    "                    dog.123.jpg\n",
    "                cat/\n",
    "                    cat.172.jpg\n",
    "                    cat.20.jpg\n",
    "                    cat.21.jpg\n",
    "\n",
    "```\n",
    "\n"
   ]
  },
  {
   "cell_type": "markdown",
   "metadata": {
    "heading_collapsed": true
   },
   "source": [
    "## 검증 데이터셋 준비"
   ]
  },
  {
   "cell_type": "code",
   "execution_count": 3,
   "metadata": {
    "hidden": true
   },
   "outputs": [],
   "source": [
    "path = './images/dogs-vs-cats/all'"
   ]
  },
  {
   "cell_type": "code",
   "execution_count": 4,
   "metadata": {
    "hidden": true
   },
   "outputs": [],
   "source": [
    "files = glob(os.path.join(path, '*.jpg'))\n",
    "#print(files)"
   ]
  },
  {
   "cell_type": "code",
   "execution_count": 5,
   "metadata": {
    "hidden": true
   },
   "outputs": [
    {
     "name": "stdout",
     "output_type": "stream",
     "text": [
      "Total no of images 25000\n"
     ]
    }
   ],
   "source": [
    "print(f'Total no of images {len(files)}')"
   ]
  },
  {
   "cell_type": "code",
   "execution_count": 6,
   "metadata": {
    "hidden": true
   },
   "outputs": [],
   "source": [
    "no_of_images = 25000"
   ]
  },
  {
   "cell_type": "code",
   "execution_count": 7,
   "metadata": {
    "hidden": true
   },
   "outputs": [],
   "source": [
    "no_of_images = len(files)"
   ]
  },
  {
   "cell_type": "code",
   "execution_count": 8,
   "metadata": {
    "hidden": true
   },
   "outputs": [
    {
     "data": {
      "text/plain": [
       "20000.0"
      ]
     },
     "execution_count": 8,
     "metadata": {},
     "output_type": "execute_result"
    }
   ],
   "source": [
    "no_of_images*0.8"
   ]
  },
  {
   "cell_type": "code",
   "execution_count": 9,
   "metadata": {
    "hidden": true
   },
   "outputs": [],
   "source": [
    "shuffle = np.random.permutation(no_of_images)"
   ]
  },
  {
   "cell_type": "code",
   "execution_count": 11,
   "metadata": {
    "hidden": true
   },
   "outputs": [],
   "source": [
    "os.mkdir(os.path.join(path,'../valid'))\n",
    "os.mkdir(os.path.join(path,'../train'))"
   ]
  },
  {
   "cell_type": "code",
   "execution_count": 13,
   "metadata": {
    "hidden": true,
    "scrolled": true
   },
   "outputs": [],
   "source": [
    "for t in ['train','valid']:\n",
    "    for folder in ['dog/','cat/']:\n",
    "        os.mkdir(os.path.join(path,'..',t,folder)) \n"
   ]
  },
  {
   "cell_type": "code",
   "execution_count": 14,
   "metadata": {
    "hidden": true
   },
   "outputs": [],
   "source": [
    "for i in shuffle[:2000]:\n",
    "    #shutil.copyfile(files[i],'../chapter3/dogsandcats/valid/')\n",
    "    folder = files[i].split('/')[-1].split('.')[0]\n",
    "    image = files[i].split('/')[-1]\n",
    "    os.rename(files[i],os.path.join(path,'../valid',folder,image))\n"
   ]
  },
  {
   "cell_type": "code",
   "execution_count": 15,
   "metadata": {
    "hidden": true
   },
   "outputs": [],
   "source": [
    "for i in shuffle[2000:]:\n",
    "    #shutil.copyfile(files[i],'../chapter3/dogsandcats/valid/')\n",
    "    folder = files[i].split('/')[-1].split('.')[0]\n",
    "    image = files[i].split('/')[-1]\n",
    "    os.rename(files[i],os.path.join(path,'../train',folder,image))\n"
   ]
  },
  {
   "cell_type": "markdown",
   "metadata": {},
   "source": [
    "## GPU 가용 상태 확인"
   ]
  },
  {
   "cell_type": "code",
   "execution_count": 16,
   "metadata": {},
   "outputs": [],
   "source": [
    "if torch.cuda.is_available():\n",
    "    is_cuda = True"
   ]
  },
  {
   "cell_type": "markdown",
   "metadata": {},
   "source": [
    "## 데이터를 PyTorch Tensor 객체로 로딩"
   ]
  },
  {
   "cell_type": "code",
   "execution_count": 17,
   "metadata": {},
   "outputs": [],
   "source": [
    "simple_transform = transforms.Compose([transforms.Resize((224,224))\n",
    "                                       ,transforms.ToTensor()\n",
    "                                       ,transforms.Normalize([0.485, 0.456, 0.406], [0.229, 0.224, 0.225])])\n",
    "train = ImageFolder('images/dogs-vs-cats/train/',simple_transform)\n",
    "valid = ImageFolder('images/dogs-vs-cats/valid/',simple_transform)"
   ]
  },
  {
   "cell_type": "code",
   "execution_count": 18,
   "metadata": {},
   "outputs": [
    {
     "name": "stdout",
     "output_type": "stream",
     "text": [
      "{'cat': 0, 'dog': 1}\n",
      "['cat', 'dog']\n"
     ]
    }
   ],
   "source": [
    "print(train.class_to_idx)\n",
    "print(train.classes) \n"
   ]
  },
  {
   "cell_type": "code",
   "execution_count": 19,
   "metadata": {},
   "outputs": [
    {
     "data": {
      "image/png": "[encoded data removed]",
      "text/plain": [
       "<Figure size 432x288 with 1 Axes>"
      ]
     },
     "metadata": {
      "needs_background": "light"
     },
     "output_type": "display_data"
    }
   ],
   "source": [
    "imshow(train[50][0])"
   ]
  },
  {
   "cell_type": "markdown",
   "metadata": {},
   "source": [
    "## 데이터 제너레이터 만들기"
   ]
  },
  {
   "cell_type": "code",
   "execution_count": 20,
   "metadata": {},
   "outputs": [],
   "source": [
    "train_data_gen = torch.utils.data.DataLoader(train,shuffle=True,batch_size=64,num_workers=3)\n",
    "valid_data_gen = torch.utils.data.DataLoader(valid,batch_size=64,num_workers=3)"
   ]
  },
  {
   "cell_type": "code",
   "execution_count": 21,
   "metadata": {},
   "outputs": [],
   "source": [
    "dataset_sizes = {'train':len(train_data_gen.dataset),'valid':len(valid_data_gen.dataset)}"
   ]
  },
  {
   "cell_type": "code",
   "execution_count": 22,
   "metadata": {},
   "outputs": [],
   "source": [
    "dataloaders = {'train':train_data_gen,'valid':valid_data_gen}"
   ]
  },
  {
   "cell_type": "markdown",
   "metadata": {},
   "source": [
    "## 네트워크 만들기"
   ]
  },
  {
   "cell_type": "markdown",
   "metadata": {},
   "source": [
    "- 다음 코드에서는 RESNET18을 다운로드합니다.\n",
    "- 다음 코드를 실행하기 위해서는 네트워크 연결 상태여야 합니다. "
   ]
  },
  {
   "cell_type": "code",
   "execution_count": 23,
   "metadata": {},
   "outputs": [
    {
     "name": "stderr",
     "output_type": "stream",
     "text": [
      "Downloading: \"https://download.pytorch.org/models/resnet18-5c106cde.pth\" to /home/taeho/.torch/models/resnet18-5c106cde.pth\n",
      "100%|██████████| 46827520/46827520 [00:01<00:00, 31816396.96it/s]\n"
     ]
    }
   ],
   "source": [
    "model_ft = models.resnet18(pretrained=True)\n",
    "num_ftrs = model_ft.fc.in_features\n",
    "model_ft.fc = nn.Linear(num_ftrs, 2)\n",
    "\n",
    "if torch.cuda.is_available():\n",
    "    model_ft = model_ft.cuda()"
   ]
  },
  {
   "cell_type": "code",
   "execution_count": 24,
   "metadata": {},
   "outputs": [
    {
     "data": {
      "text/plain": [
       "ResNet(\n",
       "  (conv1): Conv2d(3, 64, kernel_size=(7, 7), stride=(2, 2), padding=(3, 3), bias=False)\n",
       "  (bn1): BatchNorm2d(64, eps=1e-05, momentum=0.1, affine=True, track_running_stats=True)\n",
       "  (relu): ReLU(inplace)\n",
       "  (maxpool): MaxPool2d(kernel_size=3, stride=2, padding=1, dilation=1, ceil_mode=False)\n",
       "  (layer1): Sequential(\n",
       "    (0): BasicBlock(\n",
       "      (conv1): Conv2d(64, 64, kernel_size=(3, 3), stride=(1, 1), padding=(1, 1), bias=False)\n",
       "      (bn1): BatchNorm2d(64, eps=1e-05, momentum=0.1, affine=True, track_running_stats=True)\n",
       "      (relu): ReLU(inplace)\n",
       "      (conv2): Conv2d(64, 64, kernel_size=(3, 3), stride=(1, 1), padding=(1, 1), bias=False)\n",
       "      (bn2): BatchNorm2d(64, eps=1e-05, momentum=0.1, affine=True, track_running_stats=True)\n",
       "    )\n",
       "    (1): BasicBlock(\n",
       "      (conv1): Conv2d(64, 64, kernel_size=(3, 3), stride=(1, 1), padding=(1, 1), bias=False)\n",
       "      (bn1): BatchNorm2d(64, eps=1e-05, momentum=0.1, affine=True, track_running_stats=True)\n",
       "      (relu): ReLU(inplace)\n",
       "      (conv2): Conv2d(64, 64, kernel_size=(3, 3), stride=(1, 1), padding=(1, 1), bias=False)\n",
       "      (bn2): BatchNorm2d(64, eps=1e-05, momentum=0.1, affine=True, track_running_stats=True)\n",
       "    )\n",
       "  )\n",
       "  (layer2): Sequential(\n",
       "    (0): BasicBlock(\n",
       "      (conv1): Conv2d(64, 128, kernel_size=(3, 3), stride=(2, 2), padding=(1, 1), bias=False)\n",
       "      (bn1): BatchNorm2d(128, eps=1e-05, momentum=0.1, affine=True, track_running_stats=True)\n",
       "      (relu): ReLU(inplace)\n",
       "      (conv2): Conv2d(128, 128, kernel_size=(3, 3), stride=(1, 1), padding=(1, 1), bias=False)\n",
       "      (bn2): BatchNorm2d(128, eps=1e-05, momentum=0.1, affine=True, track_running_stats=True)\n",
       "      (downsample): Sequential(\n",
       "        (0): Conv2d(64, 128, kernel_size=(1, 1), stride=(2, 2), bias=False)\n",
       "        (1): BatchNorm2d(128, eps=1e-05, momentum=0.1, affine=True, track_running_stats=True)\n",
       "      )\n",
       "    )\n",
       "    (1): BasicBlock(\n",
       "      (conv1): Conv2d(128, 128, kernel_size=(3, 3), stride=(1, 1), padding=(1, 1), bias=False)\n",
       "      (bn1): BatchNorm2d(128, eps=1e-05, momentum=0.1, affine=True, track_running_stats=True)\n",
       "      (relu): ReLU(inplace)\n",
       "      (conv2): Conv2d(128, 128, kernel_size=(3, 3), stride=(1, 1), padding=(1, 1), bias=False)\n",
       "      (bn2): BatchNorm2d(128, eps=1e-05, momentum=0.1, affine=True, track_running_stats=True)\n",
       "    )\n",
       "  )\n",
       "  (layer3): Sequential(\n",
       "    (0): BasicBlock(\n",
       "      (conv1): Conv2d(128, 256, kernel_size=(3, 3), stride=(2, 2), padding=(1, 1), bias=False)\n",
       "      (bn1): BatchNorm2d(256, eps=1e-05, momentum=0.1, affine=True, track_running_stats=True)\n",
       "      (relu): ReLU(inplace)\n",
       "      (conv2): Conv2d(256, 256, kernel_size=(3, 3), stride=(1, 1), padding=(1, 1), bias=False)\n",
       "      (bn2): BatchNorm2d(256, eps=1e-05, momentum=0.1, affine=True, track_running_stats=True)\n",
       "      (downsample): Sequential(\n",
       "        (0): Conv2d(128, 256, kernel_size=(1, 1), stride=(2, 2), bias=False)\n",
       "        (1): BatchNorm2d(256, eps=1e-05, momentum=0.1, affine=True, track_running_stats=True)\n",
       "      )\n",
       "    )\n",
       "    (1): BasicBlock(\n",
       "      (conv1): Conv2d(256, 256, kernel_size=(3, 3), stride=(1, 1), padding=(1, 1), bias=False)\n",
       "      (bn1): BatchNorm2d(256, eps=1e-05, momentum=0.1, affine=True, track_running_stats=True)\n",
       "      (relu): ReLU(inplace)\n",
       "      (conv2): Conv2d(256, 256, kernel_size=(3, 3), stride=(1, 1), padding=(1, 1), bias=False)\n",
       "      (bn2): BatchNorm2d(256, eps=1e-05, momentum=0.1, affine=True, track_running_stats=True)\n",
       "    )\n",
       "  )\n",
       "  (layer4): Sequential(\n",
       "    (0): BasicBlock(\n",
       "      (conv1): Conv2d(256, 512, kernel_size=(3, 3), stride=(2, 2), padding=(1, 1), bias=False)\n",
       "      (bn1): BatchNorm2d(512, eps=1e-05, momentum=0.1, affine=True, track_running_stats=True)\n",
       "      (relu): ReLU(inplace)\n",
       "      (conv2): Conv2d(512, 512, kernel_size=(3, 3), stride=(1, 1), padding=(1, 1), bias=False)\n",
       "      (bn2): BatchNorm2d(512, eps=1e-05, momentum=0.1, affine=True, track_running_stats=True)\n",
       "      (downsample): Sequential(\n",
       "        (0): Conv2d(256, 512, kernel_size=(1, 1), stride=(2, 2), bias=False)\n",
       "        (1): BatchNorm2d(512, eps=1e-05, momentum=0.1, affine=True, track_running_stats=True)\n",
       "      )\n",
       "    )\n",
       "    (1): BasicBlock(\n",
       "      (conv1): Conv2d(512, 512, kernel_size=(3, 3), stride=(1, 1), padding=(1, 1), bias=False)\n",
       "      (bn1): BatchNorm2d(512, eps=1e-05, momentum=0.1, affine=True, track_running_stats=True)\n",
       "      (relu): ReLU(inplace)\n",
       "      (conv2): Conv2d(512, 512, kernel_size=(3, 3), stride=(1, 1), padding=(1, 1), bias=False)\n",
       "      (bn2): BatchNorm2d(512, eps=1e-05, momentum=0.1, affine=True, track_running_stats=True)\n",
       "    )\n",
       "  )\n",
       "  (avgpool): AvgPool2d(kernel_size=7, stride=1, padding=0)\n",
       "  (fc): Linear(in_features=512, out_features=2, bias=True)\n",
       ")"
      ]
     },
     "execution_count": 24,
     "metadata": {},
     "output_type": "execute_result"
    }
   ],
   "source": [
    "model_ft"
   ]
  },
  {
   "cell_type": "code",
   "execution_count": 25,
   "metadata": {},
   "outputs": [],
   "source": [
    "# 오차함수와 옵티마이저\n",
    "learning_rate = 0.001\n",
    "criterion = nn.CrossEntropyLoss()\n",
    "optimizer_ft = optim.SGD(model_ft.parameters(), lr=0.001, momentum=0.9)\n",
    "exp_lr_scheduler = lr_scheduler.StepLR(optimizer_ft, step_size=7, gamma=0.1)"
   ]
  },
  {
   "cell_type": "code",
   "execution_count": 26,
   "metadata": {},
   "outputs": [],
   "source": [
    "def train_model(model, criterion, optimizer, scheduler, num_epochs=5):\n",
    "    since = time.time()\n",
    "\n",
    "    best_model_wts = model.state_dict()\n",
    "    best_acc = 0.0\n",
    "\n",
    "    for epoch in range(num_epochs):\n",
    "        print('Epoch {}/{}'.format(epoch, num_epochs - 1))\n",
    "        print('-' * 10)\n",
    "\n",
    "        # 각 Epoch은 학습 단계와 검증 단계를 거침\n",
    "        for phase in ['train', 'valid']:\n",
    "            if phase == 'train':\n",
    "                scheduler.step()\n",
    "                model.train(True)  # 학습 모드 설정\n",
    "            else:\n",
    "                model.train(False)  # 검증 모드 설정\n",
    "\n",
    "            running_loss = 0.0\n",
    "            running_corrects = 0\n",
    "\n",
    "            # 데이터 반\n",
    "            for data in dataloaders[phase]:\n",
    "                # 입력 데이터 가져오기\n",
    "                inputs, labels = data\n",
    "\n",
    "                # 데이터를 Vaariable로 만듦\n",
    "                if torch.cuda.is_available():\n",
    "                    inputs = Variable(inputs.cuda())\n",
    "                    labels = Variable(labels.cuda())\n",
    "                else:\n",
    "                    inputs, labels = Variable(inputs), Variable(labels)\n",
    "\n",
    "                # 파라미터 기울기 초기화\n",
    "                optimizer.zero_grad()\n",
    "                \n",
    "                # forward\n",
    "                outputs = model(inputs)\n",
    "                _, preds = torch.max(outputs.data, 1)\n",
    "                loss = criterion(outputs, labels)\n",
    "\n",
    "                # 학습 단계에서만 수행, 역전파 + 옵티마이즈(최적화)\n",
    "                if phase == 'train':\n",
    "                    loss.backward()\n",
    "                    optimizer.step()\n",
    "\n",
    "                # 통계\n",
    "                running_loss += loss.data\n",
    "                running_corrects += torch.sum(preds == labels.data)\n",
    "\n",
    "            epoch_loss = running_loss.item() / dataset_sizes[phase]\n",
    "            epoch_acc = running_corrects.item() / dataset_sizes[phase]\n",
    "\n",
    "            print('{} Loss: {:.4f} Acc: {:.4f}'.format(\n",
    "                phase, epoch_loss, epoch_acc))\n",
    "\n",
    "            # 모델 복사(Deep Copy)\n",
    "            if phase == 'valid' and epoch_acc > best_acc:\n",
    "                best_acc = epoch_acc\n",
    "                best_model_wts = model.state_dict()\n",
    "\n",
    "        print()\n",
    "\n",
    "    time_elapsed = time.time() - since\n",
    "    print('Training complete in {:.0f}m {:.0f}s'.format(\n",
    "        time_elapsed // 60, time_elapsed % 60))\n",
    "    print('Best val Acc: {:4f}'.format(best_acc))\n",
    "\n",
    "    # 최적의 모델 가중치 로딩\n",
    "    model.load_state_dict(best_model_wts)\n",
    "    return model"
   ]
  },
  {
   "cell_type": "code",
   "execution_count": 27,
   "metadata": {
    "scrolled": false
   },
   "outputs": [
    {
     "name": "stdout",
     "output_type": "stream",
     "text": [
      "Epoch 0/23\n",
      "----------\n",
      "train Loss: 0.0013 Acc: 0.9680\n",
      "valid Loss: 0.0006 Acc: 0.9870\n",
      "\n",
      "Epoch 1/23\n",
      "----------\n",
      "train Loss: 0.0005 Acc: 0.9875\n",
      "valid Loss: 0.0005 Acc: 0.9895\n",
      "\n",
      "Epoch 2/23\n",
      "----------\n",
      "train Loss: 0.0003 Acc: 0.9936\n",
      "valid Loss: 0.0005 Acc: 0.9915\n",
      "\n",
      "Epoch 3/23\n",
      "----------\n",
      "train Loss: 0.0002 Acc: 0.9959\n",
      "valid Loss: 0.0005 Acc: 0.9915\n",
      "\n",
      "Epoch 4/23\n",
      "----------\n",
      "train Loss: 0.0001 Acc: 0.9979\n",
      "valid Loss: 0.0005 Acc: 0.9900\n",
      "\n",
      "Epoch 5/23\n",
      "----------\n",
      "train Loss: 0.0001 Acc: 0.9981\n",
      "valid Loss: 0.0005 Acc: 0.9915\n",
      "\n",
      "Epoch 6/23\n",
      "----------\n",
      "train Loss: 0.0001 Acc: 0.9987\n",
      "valid Loss: 0.0004 Acc: 0.9910\n",
      "\n",
      "Epoch 7/23\n",
      "----------\n",
      "train Loss: 0.0001 Acc: 0.9994\n",
      "valid Loss: 0.0004 Acc: 0.9905\n",
      "\n",
      "Epoch 8/23\n",
      "----------\n",
      "train Loss: 0.0000 Acc: 0.9997\n",
      "valid Loss: 0.0004 Acc: 0.9920\n",
      "\n",
      "Epoch 9/23\n",
      "----------\n",
      "train Loss: 0.0001 Acc: 0.9994\n",
      "valid Loss: 0.0004 Acc: 0.9920\n",
      "\n",
      "Epoch 10/23\n",
      "----------\n",
      "train Loss: 0.0001 Acc: 0.9989\n",
      "valid Loss: 0.0005 Acc: 0.9910\n",
      "\n",
      "Epoch 11/23\n",
      "----------\n",
      "train Loss: 0.0001 Acc: 0.9995\n",
      "valid Loss: 0.0005 Acc: 0.9920\n",
      "\n",
      "Epoch 12/23\n",
      "----------\n",
      "train Loss: 0.0000 Acc: 0.9995\n",
      "valid Loss: 0.0005 Acc: 0.9920\n",
      "\n",
      "Epoch 13/23\n",
      "----------\n",
      "train Loss: 0.0001 Acc: 0.9992\n",
      "valid Loss: 0.0005 Acc: 0.9915\n",
      "\n",
      "Epoch 14/23\n",
      "----------\n",
      "train Loss: 0.0000 Acc: 0.9996\n",
      "valid Loss: 0.0005 Acc: 0.9915\n",
      "\n",
      "Epoch 15/23\n",
      "----------\n",
      "train Loss: 0.0001 Acc: 0.9993\n",
      "valid Loss: 0.0005 Acc: 0.9915\n",
      "\n",
      "Epoch 16/23\n",
      "----------\n",
      "train Loss: 0.0000 Acc: 0.9996\n",
      "valid Loss: 0.0004 Acc: 0.9910\n",
      "\n",
      "Epoch 17/23\n",
      "----------\n",
      "train Loss: 0.0000 Acc: 0.9996\n",
      "valid Loss: 0.0004 Acc: 0.9915\n",
      "\n",
      "Epoch 18/23\n",
      "----------\n",
      "train Loss: 0.0000 Acc: 0.9997\n",
      "valid Loss: 0.0005 Acc: 0.9900\n",
      "\n",
      "Epoch 19/23\n",
      "----------\n",
      "train Loss: 0.0001 Acc: 0.9992\n",
      "valid Loss: 0.0005 Acc: 0.9915\n",
      "\n",
      "Epoch 20/23\n",
      "----------\n",
      "train Loss: 0.0001 Acc: 0.9995\n",
      "valid Loss: 0.0005 Acc: 0.9925\n",
      "\n",
      "Epoch 21/23\n",
      "----------\n",
      "train Loss: 0.0000 Acc: 0.9997\n",
      "valid Loss: 0.0005 Acc: 0.9920\n",
      "\n",
      "Epoch 22/23\n",
      "----------\n",
      "train Loss: 0.0001 Acc: 0.9996\n",
      "valid Loss: 0.0005 Acc: 0.9915\n",
      "\n",
      "Epoch 23/23\n",
      "----------\n",
      "train Loss: 0.0000 Acc: 0.9996\n",
      "valid Loss: 0.0005 Acc: 0.9915\n",
      "\n",
      "Training complete in 41m 45s\n",
      "Best val Acc: 0.992500\n",
      "CPU times: user 28min 52s, sys: 12min 28s, total: 41min 21s\n",
      "Wall time: 41min 45s\n"
     ]
    }
   ],
   "source": [
    "%%time\n",
    "model_ft = train_model(model_ft, criterion, optimizer_ft, exp_lr_scheduler, num_epochs=24)"
   ]
  },
  {
   "cell_type": "code",
   "execution_count": null,
   "metadata": {
    "collapsed": true
   },
   "outputs": [],
   "source": []
  }
 ],
 "metadata": {
  "kernelspec": {
   "display_name": "Python 3",
   "language": "python",
   "name": "python3"
  },
  "language_info": {
   "codemirror_mode": {
    "name": "ipython",
    "version": 3
   },
   "file_extension": ".py",
   "mimetype": "text/x-python",
   "name": "python",
   "nbconvert_exporter": "python",
   "pygments_lexer": "ipython3",
   "version": "3.6.8"
  }
 },
 "nbformat": 4,
 "nbformat_minor": 2
}
